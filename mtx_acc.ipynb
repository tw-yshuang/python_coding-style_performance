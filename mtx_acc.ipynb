{
  "cells": [
    {
      "cell_type": "code",
      "execution_count": 1,
      "metadata": {},
      "outputs": [],
      "source": [
        "import numpy as np\n",
        "from numba import jit, prange\n"
      ]
    },
    {
      "cell_type": "code",
      "execution_count": 2,
      "metadata": {},
      "outputs": [],
      "source": [
        "@jit(nopython=True)\n",
        "def go_fast(a, b):\n",
        "    # Function is compiled and runs in machine code\n",
        "    m = a.shape[0]\n",
        "    n = b.shape[0]\n",
        "    f = a.shape[1]\n",
        "    trace = np.zeros((m, n))\n",
        "    for i in range(m):\n",
        "        for j in range(n):\n",
        "            for k in range(f):\n",
        "                trace[i, j] += a[i, k] * b[j, k]\n",
        "    return trace\n",
        "\n",
        "\n",
        "@jit(nopython=True)\n",
        "def go_fast_np(a, b):\n",
        "    # why is it 10x slower than go_fast\n",
        "    m = a.shape[0]\n",
        "    n = b.shape[0]\n",
        "    trace = np.zeros((m, n))\n",
        "    for i in range(m):\n",
        "        for j in range(n):\n",
        "            trace[i, j] = a[i, :].dot(b[j, :])\n",
        "    return trace\n",
        "\n",
        "\n",
        "@jit(nopython=True, fastmath=True, parallel=True)\n",
        "def go_fast_opt(a, b):\n",
        "    # Function is compiled and runs in machine code\n",
        "    m = a.shape[0]\n",
        "    n = b.shape[0]\n",
        "    f = a.shape[1]\n",
        "    trace = np.empty((m, n))\n",
        "    for i in prange(m):\n",
        "        for j in range(n):\n",
        "            # Use scalar here\n",
        "            acc = 0\n",
        "            for k in range(f):\n",
        "                acc += a[i, k] * b[j, k]\n",
        "            trace[i, j] = acc\n",
        "    return trace\n",
        "\n",
        "\n",
        "@jit(nopython=True)\n",
        "def go_fast_np_opt(a, b):\n",
        "    m = a.shape[0]\n",
        "    n = b.shape[0]\n",
        "    trace = np.dot(a, b.T)\n",
        "    return trace\n"
      ]
    },
    {
      "cell_type": "code",
      "execution_count": 3,
      "metadata": {},
      "outputs": [],
      "source": [
        "class testJIT():\n",
        "    def __init__(self) -> None:\n",
        "        pass\n",
        "\n",
        "    def go_fast(self, a, b):\n",
        "        @jit(nopython=True )\n",
        "        def __go_fast(a, b):\n",
        "            # Function is compiled and runs in machine code\n",
        "            m = a.shape[0]\n",
        "            n = b.shape[0]\n",
        "            f = a.shape[1]\n",
        "            trace = np.zeros((m, n))\n",
        "            for i in range(m):\n",
        "                for j in range(n):\n",
        "                    for k in range(f):\n",
        "                        trace[i, j] += a[i, k] * b[j, k]\n",
        "            return trace\n",
        "        return __go_fast(a, b)\n",
        "\n",
        "\n",
        "    def go_fast_np(self, a, b):\n",
        "        @jit(nopython=True )\n",
        "        def __go_fast_np(a, b):\n",
        "            # why is it 10x slower than go_fast\n",
        "            m = a.shape[0]\n",
        "            n = b.shape[0]\n",
        "            trace = np.zeros((m, n))\n",
        "            for i in range(m):\n",
        "                for j in range(n):\n",
        "                    trace[i, j] = a[i, :].dot(b[j, :])\n",
        "            return trace\n",
        "        return __go_fast_np(a, b)\n",
        "\n",
        "    def go_fast_opt(self, a, b):\n",
        "        @jit(nopython=True, fastmath=True, parallel=True)\n",
        "        def __go_fast_opt(a, b):\n",
        "            # Function is compiled and runs in machine code\n",
        "            m = a.shape[0]\n",
        "            n = b.shape[0]\n",
        "            f = a.shape[1]\n",
        "            trace = np.empty((m, n))\n",
        "            for i in prange(m):\n",
        "                for j in range(n):\n",
        "                    # Use scalar here\n",
        "                    acc = 0\n",
        "                    for k in range(f):\n",
        "                        acc += a[i, k] * b[j, k]\n",
        "                    trace[i, j] = acc\n",
        "            return trace\n",
        "        return __go_fast_opt(a,b)\n",
        "\n",
        "    def go_fast_np_opt(self, a, b):\n",
        "        @jit(nopython=True )\n",
        "        def __go_fast_np_opt(a, b):\n",
        "            m = a.shape[0]\n",
        "            n = b.shape[0]\n",
        "            trace = np.dot(a, b.T)\n",
        "            return trace\n",
        "        return __go_fast_np_opt(a, b)\n",
        "\n",
        "tt = testJIT()"
      ]
    },
    {
      "cell_type": "code",
      "execution_count": 4,
      "metadata": {},
      "outputs": [],
      "source": [
        "class testJIT2():\n",
        "    def __init__(self) -> None:\n",
        "        pass\n",
        "    \n",
        "    @staticmethod\n",
        "    @jit(nopython=True)\n",
        "    def go_fast(a, b):\n",
        "        # Function is compiled and runs in machine code\n",
        "        m = a.shape[0]\n",
        "        n = b.shape[0]\n",
        "        f = a.shape[1]\n",
        "        trace = np.zeros((m, n))\n",
        "        for i in range(m):\n",
        "            for j in range(n):\n",
        "                for k in range(f):\n",
        "                    trace[i, j] += a[i, k] * b[j, k]\n",
        "        return trace\n",
        "\n",
        "    @staticmethod\n",
        "    @jit(nopython=True)\n",
        "    def go_fast_np(a, b):\n",
        "        # why is it 10x slower than go_fast\n",
        "        m = a.shape[0]\n",
        "        n = b.shape[0]\n",
        "        trace = np.zeros((m, n))\n",
        "        for i in range(m):\n",
        "            for j in range(n):\n",
        "                trace[i, j] = a[i, :].dot(b[j, :])\n",
        "        return trace\n",
        "\n",
        "    @staticmethod\n",
        "    @jit(nopython=True,fastmath=True, parallel=True)\n",
        "    def go_fast_opt(a, b):\n",
        "        # Function is compiled and runs in machine code\n",
        "        m = a.shape[0]\n",
        "        n = b.shape[0]\n",
        "        f = a.shape[1]\n",
        "        trace = np.empty((m, n))\n",
        "        for i in prange(m):\n",
        "            for j in range(n):\n",
        "                # Use scalar here\n",
        "                acc = 0\n",
        "                for k in range(f):\n",
        "                    acc += a[i, k] * b[j, k]\n",
        "                trace[i, j] = acc\n",
        "        return trace\n",
        "\n",
        "    @staticmethod\n",
        "    @jit(nopython=True)\n",
        "    def go_fast_np_opt(a, b):\n",
        "        m = a.shape[0]\n",
        "        n = b.shape[0]\n",
        "        trace = np.dot(a, b.T)\n",
        "        return trace\n",
        "\n",
        "tt2 = testJIT2()"
      ]
    },
    {
      "cell_type": "code",
      "execution_count": 5,
      "metadata": {},
      "outputs": [],
      "source": [
        "class testJIT3:\n",
        "    def __init__(self) -> None:\n",
        "        pass\n",
        "\n",
        "    @staticmethod\n",
        "    @jit(nopython=True)\n",
        "    def __go_fast(a, b):\n",
        "        # Function is compiled and runs in machine code\n",
        "        m = a.shape[0]\n",
        "        n = b.shape[0]\n",
        "        f = a.shape[1]\n",
        "        trace = np.zeros((m, n))\n",
        "        for i in range(m):\n",
        "            for j in range(n):\n",
        "                for k in range(f):\n",
        "                    trace[i, j] += a[i, k] * b[j, k]\n",
        "        return trace\n",
        "\n",
        "    @staticmethod\n",
        "    @jit(nopython=True)\n",
        "    def __go_fast_np(a, b):\n",
        "        # why is it 10x slower than go_fast\n",
        "        m = a.shape[0]\n",
        "        n = b.shape[0]\n",
        "        trace = np.zeros((m, n))\n",
        "        for i in range(m):\n",
        "            for j in range(n):\n",
        "                trace[i, j] = a[i, :].dot(b[j, :])\n",
        "        return trace\n",
        "\n",
        "    @staticmethod\n",
        "    @jit(nopython=True, fastmath=True, parallel=True)\n",
        "    def __go_fast_opt(a, b):\n",
        "        # Function is compiled and runs in machine code\n",
        "        m = a.shape[0]\n",
        "        n = b.shape[0]\n",
        "        f = a.shape[1]\n",
        "        trace = np.empty((m, n))\n",
        "        for i in prange(m):\n",
        "            for j in range(n):\n",
        "                # Use scalar here\n",
        "                acc = 0\n",
        "                for k in range(f):\n",
        "                    acc += a[i, k] * b[j, k]\n",
        "                trace[i, j] = acc\n",
        "            return trace\n",
        "\n",
        "    @staticmethod\n",
        "    @jit(nopython=True)\n",
        "    def __go_fast_np_opt(a, b):\n",
        "        m = a.shape[0]\n",
        "        n = b.shape[0]\n",
        "        trace = np.dot(a, b.T)\n",
        "        return trace\n",
        "\n",
        "    def go_fast(self, a, b):\n",
        "        return self.__go_fast(a, b)\n",
        "\n",
        "    def go_fast_np(self, a, b):\n",
        "        return self.__go_fast_np(a, b)\n",
        "\n",
        "    def go_fast_opt(self, a, b):\n",
        "        return self.__go_fast_opt(a, b)\n",
        "\n",
        "    def go_fast_np_opt(self, a, b):\n",
        "        return self.__go_fast_np_opt(a, b)\n",
        "\n",
        "\n",
        "tt3 = testJIT3()\n"
      ]
    },
    {
      "cell_type": "code",
      "execution_count": 6,
      "metadata": {},
      "outputs": [],
      "source": [
        "a = np.arange(20000).astype(float).reshape(1000, 20)\n",
        "b = np.arange(10000).astype(float).reshape(500, 20)\n"
      ]
    },
    {
      "cell_type": "code",
      "execution_count": 7,
      "metadata": {},
      "outputs": [
        {
          "name": "stdout",
          "output_type": "stream",
          "text": [
            "5.69 ms ± 315 µs per loop (mean ± std. dev. of 7 runs, 1 loop each)\n",
            "655 µs ± 8.64 µs per loop (mean ± std. dev. of 7 runs, 1 loop each)\n",
            "11.9 ms ± 7 µs per loop (mean ± std. dev. of 7 runs, 100 loops each)\n",
            "132 µs ± 17.9 µs per loop (mean ± std. dev. of 7 runs, 1 loop each)\n"
          ]
        }
      ],
      "source": [
        "%timeit go_fast(a, b)\n",
        "#6.64 ms ± 50.7 µs per loop (mean ± std. dev. of 7 runs, 100 loops each)\n",
        "%timeit go_fast_opt(a, b)\n",
        "#1.2 ms ± 129 µs per loop (mean ± std. dev. of 7 runs, 1 loop each)\n",
        "%timeit go_fast_np(a, b)\n",
        "#33.4 ms ± 140 µs per loop (mean ± std. dev. of 7 runs, 10 loops each)\n",
        "%timeit go_fast_np_opt(a, b)\n",
        "#1.1 ms ± 11.5 µs per loop (mean ± std. dev. of 7 runs, 1000 loops each)\n"
      ]
    },
    {
      "cell_type": "code",
      "execution_count": 8,
      "metadata": {},
      "outputs": [
        {
          "name": "stdout",
          "output_type": "stream",
          "text": [
            "87.2 ms ± 237 µs per loop (mean ± std. dev. of 7 runs, 10 loops each)\n",
            "276 ms ± 1.15 ms per loop (mean ± std. dev. of 7 runs, 1 loop each)\n",
            "94.9 ms ± 487 µs per loop (mean ± std. dev. of 7 runs, 10 loops each)\n",
            "88.3 ms ± 963 µs per loop (mean ± std. dev. of 7 runs, 10 loops each)\n"
          ]
        }
      ],
      "source": [
        "%timeit tt.go_fast(a, b)\n",
        "%timeit tt.go_fast_opt(a, b)\n",
        "%timeit tt.go_fast_np(a, b)\n",
        "%timeit tt.go_fast_np_opt(a, b)"
      ]
    },
    {
      "cell_type": "code",
      "execution_count": 9,
      "metadata": {},
      "outputs": [
        {
          "name": "stdout",
          "output_type": "stream",
          "text": [
            "5.56 ms ± 15.9 µs per loop (mean ± std. dev. of 7 runs, 100 loops each)\n",
            "662 µs ± 13.6 µs per loop (mean ± std. dev. of 7 runs, 1 loop each)\n",
            "12 ms ± 2.46 µs per loop (mean ± std. dev. of 7 runs, 100 loops each)\n",
            "126 µs ± 466 ns per loop (mean ± std. dev. of 7 runs, 10,000 loops each)\n"
          ]
        }
      ],
      "source": [
        "%timeit tt2.go_fast(a, b)\n",
        "%timeit tt2.go_fast_opt(a, b)\n",
        "%timeit tt2.go_fast_np(a, b)\n",
        "%timeit tt2.go_fast_np_opt(a, b)"
      ]
    },
    {
      "cell_type": "code",
      "execution_count": 10,
      "metadata": {},
      "outputs": [
        {
          "name": "stdout",
          "output_type": "stream",
          "text": [
            "5.57 ms ± 14.9 µs per loop (mean ± std. dev. of 7 runs, 100 loops each)\n",
            "12 ms ± 7.09 µs per loop (mean ± std. dev. of 7 runs, 100 loops each)\n",
            "132 µs ± 2.27 µs per loop (mean ± std. dev. of 7 runs, 10,000 loops each)\n"
          ]
        }
      ],
      "source": [
        "%timeit tt3.go_fast(a, b)\n",
        "# %timeit tt3.go_fast_opt(a, b)\n",
        "%timeit tt3.go_fast_np(a, b)\n",
        "%timeit tt3.go_fast_np_opt(a, b)"
      ]
    },
    {
      "cell_type": "code",
      "execution_count": 11,
      "metadata": {},
      "outputs": [],
      "source": [
        "a = np.arange(12).astype(float).reshape(3, 4)\n",
        "b = np.arange(16).astype(float).reshape(4, 4)\n"
      ]
    },
    {
      "cell_type": "code",
      "execution_count": 12,
      "metadata": {},
      "outputs": [
        {
          "name": "stdout",
          "output_type": "stream",
          "text": [
            "632 ns ± 17.5 ns per loop (mean ± std. dev. of 7 runs, 1,000,000 loops each)\n",
            "4.12 µs ± 52 ns per loop (mean ± std. dev. of 7 runs, 100,000 loops each)\n",
            "836 ns ± 7.46 ns per loop (mean ± std. dev. of 7 runs, 1,000,000 loops each)\n",
            "786 ns ± 2.1 ns per loop (mean ± std. dev. of 7 runs, 1,000,000 loops each)\n"
          ]
        }
      ],
      "source": [
        "\n",
        "%timeit go_fast(a, b)\n",
        "#922 µs ± 1.93 µs per loop (mean ± std. dev. of 7 runs, 1000 loops each)\n",
        "%timeit go_fast_opt(a, b)\n",
        "#79.4 µs ± 1.12 µs per loop (mean ± std. dev. of 7 runs, 10000 loops each)\n",
        "%timeit go_fast_np(a, b)\n",
        "#431 µs ± 3.54 µs per loop (mean ± std. dev. of 7 runs, 1000 loops each)\n",
        "%timeit go_fast_np_opt(a, b)\n",
        "#14.6 µs ± 291 ns per loop (mean ± std. dev. of 7 runs, 100000 loops each)"
      ]
    },
    {
      "cell_type": "code",
      "execution_count": 13,
      "metadata": {},
      "outputs": [
        {
          "name": "stdout",
          "output_type": "stream",
          "text": [
            "82.1 ms ± 238 µs per loop (mean ± std. dev. of 7 runs, 10 loops each)\n",
            "277 ms ± 1.19 ms per loop (mean ± std. dev. of 7 runs, 1 loop each)\n",
            "83 ms ± 194 µs per loop (mean ± std. dev. of 7 runs, 10 loops each)\n",
            "58.5 ms ± 202 µs per loop (mean ± std. dev. of 7 runs, 10 loops each)\n"
          ]
        }
      ],
      "source": [
        "%timeit tt.go_fast(a, b)\n",
        "%timeit tt.go_fast_opt(a, b)\n",
        "%timeit tt.go_fast_np(a, b)\n",
        "%timeit tt.go_fast_np_opt(a, b)"
      ]
    },
    {
      "cell_type": "code",
      "execution_count": 14,
      "metadata": {},
      "outputs": [
        {
          "name": "stdout",
          "output_type": "stream",
          "text": [
            "634 ns ± 5.36 ns per loop (mean ± std. dev. of 7 runs, 1,000,000 loops each)\n",
            "4.24 µs ± 73 ns per loop (mean ± std. dev. of 7 runs, 100,000 loops each)\n",
            "850 ns ± 10.3 ns per loop (mean ± std. dev. of 7 runs, 1,000,000 loops each)\n",
            "804 ns ± 1.81 ns per loop (mean ± std. dev. of 7 runs, 1,000,000 loops each)\n"
          ]
        }
      ],
      "source": [
        "%timeit tt2.go_fast(a, b)\n",
        "%timeit tt2.go_fast_opt(a, b)\n",
        "%timeit tt2.go_fast_np(a, b)\n",
        "%timeit tt2.go_fast_np_opt(a, b)"
      ]
    },
    {
      "cell_type": "code",
      "execution_count": 15,
      "metadata": {},
      "outputs": [
        {
          "name": "stdout",
          "output_type": "stream",
          "text": [
            "715 ns ± 9.92 ns per loop (mean ± std. dev. of 7 runs, 1,000,000 loops each)\n",
            "928 ns ± 13.2 ns per loop (mean ± std. dev. of 7 runs, 1,000,000 loops each)\n",
            "893 ns ± 3.54 ns per loop (mean ± std. dev. of 7 runs, 1,000,000 loops each)\n"
          ]
        }
      ],
      "source": [
        "%timeit tt3.go_fast(a, b)\n",
        "# %timeit tt3.go_fast_opt(a, b)\n",
        "%timeit tt3.go_fast_np(a, b)\n",
        "%timeit tt3.go_fast_np_opt(a, b)"
      ]
    }
  ],
  "metadata": {
    "kernelspec": {
      "display_name": "Python 3.8.12 ('CVDL-v0NLsQWL')",
      "language": "python",
      "name": "python3"
    },
    "language_info": {
      "codemirror_mode": {
        "name": "ipython",
        "version": 3
      },
      "file_extension": ".py",
      "mimetype": "text/x-python",
      "name": "python",
      "nbconvert_exporter": "python",
      "pygments_lexer": "ipython3",
      "version": "3.8.12"
    },
    "orig_nbformat": 4,
    "vscode": {
      "interpreter": {
        "hash": "3f47094cf1ea11ebe3b98649ade642a3f43ffe4fd02c850c7cd1a0602ee5f15e"
      }
    }
  },
  "nbformat": 4,
  "nbformat_minor": 2
}
